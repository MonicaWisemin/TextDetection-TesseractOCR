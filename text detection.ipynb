{
 "cells": [
  {
   "cell_type": "code",
   "execution_count": 94,
   "id": "75e737a7-ab68-4ce3-9e25-cb59da6a5a36",
   "metadata": {},
   "outputs": [],
   "source": [
    "#import cv2 & numpy\n",
    "import cv2\n",
    "import numpy as np\n",
    "\n",
    "#read test image\n",
    "image_path = 'E:\\\\test2.jpg'\n",
    "img = cv2.imread(image_path)\n",
    "\n",
    "\n",
    "##preprocessing test image\n",
    "    #gray_scale\n",
    "g_img = cv2.cvtColor(img,cv2.COLOR_BGR2GRAY)\n",
    "\n",
    "    #adaptive threshold mean,choose one each time\n",
    "#b_img = cv2.adaptiveThreshold(g_img,255,cv2.ADAPTIVE_THRESH_MEAN_C,cv2.THRESH_BINARY,15,2)\n",
    "b_img = cv2.adaptiveThreshold(g_img,255,cv2.ADAPTIVE_THRESH_GAUSSIAN_C,cv2.THRESH_BINARY,21,2)\n",
    "\n",
    "    #dilate \n",
    "k = np.ones((5,5),np.uint8)\n",
    "d_img = cv2.dilate(b_img,k,iterations = 1)\n",
    "\n",
    "    #blur,choose one each time\n",
    "blur_img = cv2.medianBlur(d_img,5)\n",
    "#blur_img = cv2.GaussianBlur(d_img,(5,5),7,2)\n",
    "\n",
    "#show all the pre-processed img\n",
    "    #name all the windows we need and resize them\n",
    "cv2.namedWindow('original_pic',cv2.WINDOW_NORMAL)\n",
    "cv2.resizeWindow('original_pic',800,600)\n",
    "cv2.namedWindow('grayscale',cv2.WINDOW_NORMAL)\n",
    "cv2.resizeWindow('grayscale',800,600)\n",
    "cv2.namedWindow('gaussian_threshold_binary',cv2.WINDOW_NORMAL)\n",
    "cv2.resizeWindow('gaussian_threshold_binary',800,600)\n",
    "cv2.namedWindow('dilated',cv2.WINDOW_NORMAL)\n",
    "cv2.resizeWindow('dilated',800,600)\n",
    "cv2.namedWindow('blur',cv2.WINDOW_NORMAL)\n",
    "cv2.resizeWindow('blur',800,600)\n",
    "\n",
    "    #show all the images(including those test ones)\n",
    "cv2.imshow('original_pic', img)\n",
    "cv2.imshow('grayscale', g_img)\n",
    "cv2.imshow('gaussian_threshold_binary', b_img)\n",
    "cv2.imshow('dilated', d_img)\n",
    "cv2.imshow('blur', blur_img)\n",
    "\n",
    "\n",
    "cv2.waitKey(0)\n",
    "cv2.destroyAllWindows()"
   ]
  },
  {
   "cell_type": "code",
   "execution_count": 95,
   "id": "9dbf111d-29d7-4345-8fa8-77633ec121c1",
   "metadata": {},
   "outputs": [
    {
     "name": "stdout",
     "output_type": "stream",
     "text": [
      "~\n",
      "\n",
      "life's fun\n",
      "\n",
      "_ until you -\n",
      "\n",
      "start worrying about\n",
      "things you cant control\n",
      "\n",
      "runtime = 0.24806571006774902\n"
     ]
    }
   ],
   "source": [
    "#import pytesseract & os & time to detect text and record runtime\n",
    "import pytesseract\n",
    "import os\n",
    "import time\n",
    "#use Tesseract OCR to detect text in the preprocessed pic\n",
    "start = time.time()\n",
    "\n",
    "text = pytesseract.image_to_string(blur_img, lang='eng')\n",
    "print(text)\n",
    "\n",
    "end = time.time()\n",
    "runtime = end - start\n",
    "print('runtime =',runtime)"
   ]
  },
  {
   "cell_type": "code",
   "execution_count": 96,
   "id": "b853cab2-a4ae-45e9-aaf9-419c8f4e7048",
   "metadata": {},
   "outputs": [
    {
     "data": {
      "text/plain": [
       "-1"
      ]
     },
     "execution_count": 96,
     "metadata": {},
     "output_type": "execute_result"
    }
   ],
   "source": [
    "#bound boxes around preprocessed text\n",
    "import cv2\n",
    "import pytesseract\n",
    "\n",
    "h, w, c = img.shape\n",
    "boxes = pytesseract.image_to_boxes(blur_img)\n",
    "for b in boxes.splitlines():\n",
    "    b = b.split(' ')\n",
    "    bb_img = cv2.rectangle(blur_img, (int(b[1]), h - int(b[2])), (int(b[3]), h - int(b[4])), (0, 255, 0), 2)\n",
    "\n",
    "cv2.imshow('bounding boxes',bb_img)\n",
    "cv2.waitKey(0)"
   ]
  },
  {
   "cell_type": "code",
   "execution_count": null,
   "id": "ae5de01f-7368-431d-a168-e38469870c0a",
   "metadata": {},
   "outputs": [],
   "source": []
  }
 ],
 "metadata": {
  "kernelspec": {
   "display_name": "Python 3 (ipykernel)",
   "language": "python",
   "name": "python3"
  },
  "language_info": {
   "codemirror_mode": {
    "name": "ipython",
    "version": 3
   },
   "file_extension": ".py",
   "mimetype": "text/x-python",
   "name": "python",
   "nbconvert_exporter": "python",
   "pygments_lexer": "ipython3",
   "version": "3.10.9"
  }
 },
 "nbformat": 4,
 "nbformat_minor": 5
}
